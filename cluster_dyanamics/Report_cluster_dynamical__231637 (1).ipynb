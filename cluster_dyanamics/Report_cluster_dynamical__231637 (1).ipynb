{
  "cells": [
    {
      "cell_type": "markdown",
      "source": [
        "**Project 1: Estimating the Dynamical Mass of a Galaxy Cluster**"
      ],
      "metadata": {
        "id": "nu9inQd_eev7"
      }
    },
    {
      "cell_type": "markdown",
      "source": [
        "\n",
        "\n",
        "I uploaded the csv file downloaded by using the following sql query in skyserver\n",
        "\n",
        "SQL QUERY\n",
        "\n",
        "SELECT\n",
        "s.objid,sz.ra as ra,sz.dec as dec,pz.z as photoz,pz.zerr as photozerr,sz.z as specz,sz.zerr as\n",
        "speczerr,b.distance as proj_sep,s.modelMag_u as umag,s.modelMagErr_u as\n",
        "umagerr,s.modelMag_g as gmag,s.modelMagErr_g as gmagerr,s.modelMag_r as rmag,\n",
        "s.modelMagerr_r as rmagerr,s.type as obj_type\n",
        "\n",
        "FROM BESTDR16..PhotoObjAll as s\n",
        "JOIN dbo.fGetNearbyObjEq(258.1294,64.0926,10.0) AS b ON b.objID = S.objID\n",
        "JOIN Photoz as pz ON pz.objid = s.objid\n",
        "JOIN specObjAll as sz ON sz.bestobjid = s.objid\n",
        "\n",
        "WHERE s.type=3 and sz.z > 0.05 and sz.z < 0.20\n",
        "\n",
        "Then I link my content drive to google collab by using following code\n"
      ],
      "metadata": {
        "id": "jGviJp0RvH3a"
      }
    },
    {
      "cell_type": "code",
      "source": [
        "from google.colab import drive\n",
        "drive.mount('/content/drive')"
      ],
      "metadata": {
        "colab": {
          "base_uri": "https://localhost:8080/"
        },
        "id": "NHaG8NzMKKmF",
        "outputId": "e8630982-c07b-478f-adaf-2fc760f65ed4"
      },
      "execution_count": null,
      "outputs": [
        {
          "output_type": "stream",
          "name": "stdout",
          "text": [
            "Mounted at /content/drive\n"
          ]
        }
      ]
    },
    {
      "cell_type": "code",
      "source": [
        " import numpy as np\n",
        " import matplotlib.pyplot as plt\n",
        " import pandas as pd\n",
        " from astropy.constants import G, c\n",
        " from astropy.cosmology import Planck18 as cosmo\n",
        " import astropy.units as u\n",
        "from astropy import constants as const\n",
        "\n",
        "!pip install astropy\n",
        "from astropy.coordinates import SkyCoord, Longitude, Latitude\n",
        "\n",
        "from astropy import units as u\n",
        "from astropy.cosmology import FlatLambdaCDM\n",
        "import warnings\n"
      ],
      "metadata": {
        "colab": {
          "base_uri": "https://localhost:8080/"
        },
        "id": "015xnDDsfJWe",
        "outputId": "b05f2aa5-0848-4149-9761-ca296bf364c4"
      },
      "execution_count": null,
      "outputs": [
        {
          "output_type": "stream",
          "name": "stdout",
          "text": [
            "Requirement already satisfied: astropy in /usr/local/lib/python3.11/dist-packages (7.1.0)\n",
            "Requirement already satisfied: numpy>=1.23.2 in /usr/local/lib/python3.11/dist-packages (from astropy) (2.0.2)\n",
            "Requirement already satisfied: pyerfa>=2.0.1.1 in /usr/local/lib/python3.11/dist-packages (from astropy) (2.0.1.5)\n",
            "Requirement already satisfied: astropy-iers-data>=0.2025.4.28.0.37.27 in /usr/local/lib/python3.11/dist-packages (from astropy) (0.2025.6.23.0.39.50)\n",
            "Requirement already satisfied: PyYAML>=6.0.0 in /usr/local/lib/python3.11/dist-packages (from astropy) (6.0.2)\n",
            "Requirement already satisfied: packaging>=22.0.0 in /usr/local/lib/python3.11/dist-packages (from astropy) (24.2)\n"
          ]
        }
      ]
    },
    {
      "cell_type": "markdown",
      "source": [
        "**📊 Calculating the Average Spectroscopic Redshift (specz) for Each Object**"
      ],
      "metadata": {
        "id": "Jfi03mcQTwO9"
      }
    },
    {
      "cell_type": "code",
      "source": [
        "\n",
        "\n",
        "H_0 = 2.27e-18          # Hubble constant in SI units (1/s), corresponds to 70 km/s/Mpc\n",
        "c = 3.0e8               # Speed of light in m/s\n",
        "G = 4.302e-3            # Gravitational constant in pc·(km/s)^2·M_sun^-1 (you wanted in astronomy units, pc kg^-1 (m/s)^2 is non-standard, but closest would be this form)\n",
        "\n",
        "q0 = -0.534             # Deceleration parameter (from Planck fit, leave as is)\n",
        "\n",
        "df = pd.read_csv('/content/drive/MyDrive/Colab Notebooks/ISA Project /Skyserver_SQL6_28_2025 1_20_10 PM.csv',comment='#')\n",
        "\n",
        "print(df.head())\n",
        "#print(\"Total number of galaxies before filtering:\", len(averaged_df))\n",
        "\n",
        "averaged_df = df.groupby('objid').agg({\n",
        "    'specz': 'mean',        # Take the mean of all spec-z values for that object\n",
        "    'ra': 'first',          # Use the first RA value (assumed constant for the object)\n",
        "    'dec': 'first',         # Use the first Dec value (same reason as above)\n",
        "    'proj_sep': 'first'     # Use the first projected separation value\n",
        "}).reset_index()\n",
        "\n",
        "averaged_df = df.groupby('objid').agg({'specz': 'mean','ra': 'first','dec': 'first','proj_sep': 'first',}).reset_index()\n",
        "averaged_df.describe()['specz']\n",
        "\n",
        "\n",
        "# Plot the dsitribution of redshift as histogram and a boxplot\n",
        "plt.title(\"distribution of redshift for this data\")\n",
        "\n",
        "\n",
        "\n",
        "plt.hist(averaged_df['specz'],bins=90)\n",
        "plt.grid()\n",
        "plt.show()\n",
        "\n",
        "\n",
        "#cluster_redshift = filtered_df['specz'].mean()\n",
        "\n",
        "\n",
        "#print(f\"The value of the cluster redshift = {cluster_redshift:.4}\")\n",
        "#print(f\"The characteristic value of velocity dispersion of the cluster along the line of sight = {disp:.4} km/s.\")"
      ],
      "metadata": {
        "id": "H3LaYAplyBK2",
        "colab": {
          "base_uri": "https://localhost:8080/",
          "height": 799
        },
        "outputId": "84ff8c00-b9d3-4341-d9b5-40df89260284"
      },
      "execution_count": null,
      "outputs": [
        {
          "output_type": "stream",
          "name": "stdout",
          "text": [
            "                 objid         ra        dec    photoz  photozerr     specz  \\\n",
            "0  1237671768542478711  257.82458  64.133257  0.079193   0.022867  0.082447   \n",
            "1  1237671768542478711  257.82458  64.133257  0.079193   0.022867  0.082466   \n",
            "2  1237671768542478713  257.83332  64.126043  0.091507   0.014511  0.081218   \n",
            "3  1237671768542544090  257.85137  64.173247  0.081102   0.009898  0.079561   \n",
            "4  1237671768542544090  257.85137  64.173247  0.081102   0.009898  0.079568   \n",
            "\n",
            "   speczerr  proj_sep      umag   umagerr      gmag   gmagerr      rmag  \\\n",
            "0  0.000017  8.347733  18.96488  0.043377  17.49815  0.005672  16.75003   \n",
            "1  0.000014  8.347733  18.96488  0.043377  17.49815  0.005672  16.75003   \n",
            "2  0.000021  8.011259  20.22848  0.072019  18.38334  0.007763  17.46793   \n",
            "3  0.000022  8.739276  19.21829  0.050135  17.18970  0.004936  16.22043   \n",
            "4  0.000019  8.739276  19.21829  0.050135  17.18970  0.004936  16.22043   \n",
            "\n",
            "    rmagerr  obj_type  \n",
            "0  0.004708         3  \n",
            "1  0.004708         3  \n",
            "2  0.005828         3  \n",
            "3  0.003769         3  \n",
            "4  0.003769         3  \n"
          ]
        },
        {
          "output_type": "display_data",
          "data": {
            "text/plain": [
              "<Figure size 640x480 with 1 Axes>"
            ],
            "image/png": "[encoded data removed]"
          },
          "metadata": {}
        }
      ]
    },
    {
      "cell_type": "markdown",
      "source": [
        "**Step 2: Calculate Mean Redshift of the Cluster**"
      ],
      "metadata": {
        "id": "GREth3nhT6vH"
      }
    },
    {
      "cell_type": "code",
      "source": [
        "# Constants\n",
        "c = const.c.to('km/s').value  # Speed of light in km/s (299792.458)\n",
        "\n",
        "def relativistic_velocity(z):\n",
        "    \"\"\"\n",
        "    Calculate velocity from redshift using relativistic Doppler formula\n",
        "    Args:\n",
        "        z: Redshift value(s) (can be single value or array-like)\n",
        "    Returns:\n",
        "        Velocity in km/s\n",
        "    \"\"\"\n",
        "    return c * ((1 + z)**2 - 1) / ((1 + z)**2 + 1)\n",
        "\n",
        "def velocity_dispersion_from_redshifts(redshifts):\n",
        "    \"\"\"\n",
        "    Calculate velocity dispersion from galaxy redshifts\n",
        "    Args:\n",
        "        redshifts: Array of galaxy redshifts\n",
        "    Returns:\n",
        "        tuple: (mean_redshift, velocity_dispersion)\n",
        "    \"\"\"\n",
        "    z_mean = np.mean(redshifts)\n",
        "    velocities = relativistic_velocity(redshifts) - relativistic_velocity(z_mean)\n",
        "    dispersion = np.std(velocities, ddof=1)  # Sample standard deviation\n",
        "    return z_mean, dispersion\n",
        "\n",
        "# Example usage with sample data\n",
        "# Create sample data (replace with your actual data loading)\n",
        "data = {\n",
        "    'galaxy_id': [1, 2, 3, 4, 5],\n",
        "    'redshift': [0.0231, 0.0228, 0.0235, 0.0229, 0.0232]\n",
        "}\n",
        "df = pd.DataFrame(data)\n",
        "\n",
        "# Calculate velocity dispersion\n",
        "cluster_z, vel_disp = velocity_dispersion_from_redshifts(df['redshift'])\n",
        "\n",
        "print(f\"Cluster mean redshift: {cluster_z:.5f}\")\n",
        "print(f\"Velocity dispersion: {vel_disp:.2f} km/s\")\n",
        "\n",
        "# Visualize the velocity distribution\n",
        "velocities = relativistic_velocity(df['redshift']) - relativistic_velocity(cluster_z)\n",
        "plt.figure(figsize=(10, 6))\n",
        "plt.hist(velocities, bins=15, color='steelblue', edgecolor='black')\n",
        "plt.axvline(x=0, color='red', linestyle='--', label='Cluster mean')\n",
        "plt.xlabel('Velocity relative to cluster (km/s)', fontsize=12)\n",
        "plt.ylabel('Number of galaxies', fontsize=12)\n",
        "plt.title('Galaxy Velocity Distribution', fontsize=14)\n",
        "plt.legend()\n",
        "plt.grid(True, alpha=0.3)\n",
        "plt.show()\n",
        "\n",
        "# Interpretation\n",
        "if vel_disp > 1000:\n",
        "    cluster_type = \"a massive cluster or supercluster\"\n",
        "elif vel_disp > 500:\n",
        "    cluster_type = \"a galaxy group or small cluster\"\n",
        "else:\n",
        "    cluster_type = \"a loose galaxy association\"\n",
        "\n",
        "print(f\"\\nThis velocity dispersion of {vel_disp:.2f} km/s suggests {cluster_type}.\")"
      ],
      "metadata": {
        "id": "FEbRuGjs8BQP",
        "colab": {
          "base_uri": "https://localhost:8080/",
          "height": 638
        },
        "outputId": "ce1091c4-a913-4907-8fe9-85c887b9b4ae"
      },
      "execution_count": null,
      "outputs": [
        {
          "output_type": "stream",
          "name": "stdout",
          "text": [
            "Cluster mean redshift: 0.02310\n",
            "Velocity dispersion: 80.20 km/s\n"
          ]
        },
        {
          "output_type": "display_data",
          "data": {
            "text/plain": [
              "<Figure size 1000x600 with 1 Axes>"
            ],
            "image/png": "[encoded data removed]"
          },
          "metadata": {}
        },
        {
          "output_type": "stream",
          "name": "stdout",
          "text": [
            "\n",
            "This velocity dispersion of 80.20 km/s suggests a loose galaxy association.\n"
          ]
        }
      ]
    },
    {
      "cell_type": "code",
      "source": [
        "\n",
        "# Constants\n",
        "c = const.c.to('km/s').value  # Speed of light in km/s (299792.458)\n",
        "\n",
        "def relativistic_velocity(z):\n",
        "    \"\"\"Calculate velocity from redshift using relativistic Doppler formula\"\"\"\n",
        "    return c * ((1 + z)**2 - 1) / ((1 + z)**2 + 1)\n",
        "\n",
        "def velocity_dispersion_from_redshifts(redshifts):\n",
        "    \"\"\"Calculate velocity dispersion from galaxy redshifts\"\"\"\n",
        "    z_mean = np.mean(redshifts)\n",
        "    velocities = relativistic_velocity(redshifts) - relativistic_velocity(z_mean)\n",
        "    dispersion = np.std(velocities, ddof=1)  # Sample standard deviation\n",
        "    return z_mean, dispersion\n",
        "\n",
        "# Load your data (replace with your actual file path)\n",
        "file_path = '/content/drive/MyDrive/Colab Notebooks/ISA Project /Skyserver_SQL6_28_2025 1_20_10 PM.csv'  # UPDATE THIS\n",
        "# Read the CSV, skipping the first row which seems to be a comment/header issue based on the notebook state\n",
        "df = pd.read_csv(file_path, comment='#')\n",
        "\n",
        "\n",
        "# Clean data - remove rows with missing redshifts\n",
        "df = df.dropna(subset=['specz']).copy()\n",
        "\n",
        "# Calculate velocity dispersion\n",
        "cluster_redshift, disp = velocity_dispersion_from_redshifts(df['specz'])\n",
        "\n",
        "# Calculate velocities for visualization\n",
        "df['velocity'] = relativistic_velocity(df['specz']) - relativistic_velocity(cluster_redshift)\n",
        "\n",
        "# Create plots\n",
        "plt.figure(figsize=(12, 5))\n",
        "\n",
        "# Plot 1: Redshift distribution\n",
        "plt.subplot(1, 2, 1)\n",
        "plt.hist(df['specz'], bins=20, color='teal', alpha=0.7)\n",
        "plt.axvline(cluster_redshift, color='red', linestyle='--', label=f'Mean z = {cluster_redshift:.4f}')\n",
        "plt.xlabel('Redshift', fontsize=12)\n",
        "plt.ylabel('Number of Galaxies', fontsize=12)\n",
        "plt.title('Redshift Distribution', fontsize=14)\n",
        "plt.legend()\n",
        "plt.grid(True, alpha=0.3)\n",
        "\n",
        "# Plot 2: Velocity distribution\n",
        "plt.subplot(1, 2, 2)\n",
        "plt.hist(df['velocity'], bins=20, color='steelblue', alpha=0.7)\n",
        "plt.axvline(0, color='red', linestyle='--')\n",
        "plt.xlabel('Velocity relative to cluster (km/s)', fontsize=12)\n",
        "plt.ylabel('Number of Galaxies', fontsize=12)\n",
        "plt.title(f'Velocity Distribution\\n(σ = {disp:.2f} km/s)', fontsize=14)\n",
        "plt.grid(True, alpha=0.3)\n",
        "\n",
        "plt.tight_layout()\n",
        "plt.show()\n",
        "\n",
        "# Print the final results in your requested format\n",
        "print(f\"\\nFinal Results:\")\n",
        "print(f\"The value of the cluster redshift = {cluster_redshift:.4f}\")\n",
        "print(f\"The characteristic value of velocity dispersion of the cluster along the line of sight = {disp:.4f} km/s.\")\n",
        "\n",
        "# Interpretation\n",
        "if disp > 1000:\n",
        "    cluster_type = \"This high dispersion suggests a massive cluster or supercluster.\"\n",
        "elif disp > 500:\n",
        "    cluster_type = \"This moderate dispersion suggests a galaxy group or small cluster.\"\n",
        "else:\n",
        "    cluster_type = \"This low dispersion suggests a loose galaxy association.\"\n",
        "\n",
        "print(f\"\\nInterpretation: {cluster_type}\")"
      ],
      "metadata": {
        "id": "7POieOmw8EsE",
        "colab": {
          "base_uri": "https://localhost:8080/",
          "height": 610
        },
        "outputId": "dfc5aabb-7f26-4431-fde4-a7acb8a19737"
      },
      "execution_count": null,
      "outputs": [
        {
          "output_type": "display_data",
          "data": {
            "text/plain": [
              "<Figure size 1200x500 with 2 Axes>"
            ],
            "image/png": "[encoded data removed]"
          },
          "metadata": {}
        },
        {
          "output_type": "stream",
          "name": "stdout",
          "text": [
            "\n",
            "Final Results:\n",
            "The value of the cluster redshift = 0.0810\n",
            "The characteristic value of velocity dispersion of the cluster along the line of sight = 2543.6000 km/s.\n",
            "\n",
            "Interpretation: This high dispersion suggests a massive cluster or supercluster.\n"
          ]
        }
      ]
    },
    {
      "cell_type": "markdown",
      "source": [
        "**SStep 4: Visualizing Angular Separation of Galaxies**"
      ],
      "metadata": {
        "id": "cPLfimQIUIyk"
      }
    },
    {
      "cell_type": "code",
      "source": [
        "\n",
        "\n",
        "# Constants\n",
        "c = const.c.to('km/s').value  # Speed of light in km/s\n",
        "\n",
        "def relativistic_velocity(z):\n",
        "    \"\"\"Calculate velocity from redshift using relativistic Doppler formula\"\"\"\n",
        "    return c * ((1 + z)**2 - 1) / ((1 + z)**2 + 1)\n",
        "\n",
        "def velocity_dispersion_from_redshifts(redshifts):\n",
        "    \"\"\"Calculate velocity dispersion from galaxy redshifts\"\"\"\n",
        "    z_mean = np.mean(redshifts)\n",
        "    velocities = relativistic_velocity(redshifts) - relativistic_velocity(z_mean)\n",
        "    dispersion = np.std(velocities, ddof=1)  # Sample standard deviation\n",
        "    return z_mean, dispersion\n",
        "\n",
        "def calculate_angular_separation(ra, dec, ra_center, dec_center):\n",
        "    \"\"\"Calculate angular separation from cluster center in arcminutes\"\"\"\n",
        "    # Explicitly create Longitude and Latitude objects\n",
        "    gal_ra = Longitude(ra, u.degree)\n",
        "    gal_dec = Latitude(dec, u.degree)\n",
        "    center_ra = Longitude(ra_center, u.degree)\n",
        "    center_dec = Latitude(dec_center, u.degree)\n",
        "\n",
        "    gal_coords = SkyCoord(ra=gal_ra, dec=gal_dec)\n",
        "    center_coords = SkyCoord(ra=center_ra, dec=center_dec)\n",
        "    separations = gal_coords.separation(center_coords)\n",
        "    return separations.to(u.arcmin).value\n",
        "\n",
        "\n",
        "# Load your data (replace with your actual file path)\n",
        "file_path = '/content/drive/MyDrive/Colab Notebooks/ISA Project /Skyserver_SQL6_28_2025 1_20_10 PM.csv'  # UPDATE THIS\n",
        "# Read the CSV, skipping the first row which seems to be a comment/header issue based on the notebook state\n",
        "df = pd.read_csv(file_path, comment='#')\n",
        "\n",
        "# Clean data - remove rows with missing redshifts, RA, or Dec\n",
        "df = df.dropna(subset=['specz', 'ra', 'dec']).copy()\n",
        "\n",
        "# Convert RA and Dec columns to numeric, coercing errors\n",
        "df['ra'] = pd.to_numeric(df['ra'], errors='coerce')\n",
        "df['dec'] = pd.to_numeric(df['dec'], errors='coerce')\n",
        "\n",
        "# Drop rows where RA or Dec conversion failed\n",
        "df = df.dropna(subset=['ra', 'dec']).copy()\n",
        "\n",
        "\n",
        "# Step 1-3: Velocity dispersion calculation (previous steps)\n",
        "# Ensure 'velocity' column is calculated before plotting\n",
        "df['velocity'] = relativistic_velocity(df['specz']) - relativistic_velocity(df['specz'].mean())\n",
        "cluster_redshift, disp = velocity_dispersion_from_redshifts(df['specz'])\n",
        "\n",
        "\n",
        "# Step 4: Calculate angular separations\n",
        "# First determine cluster center (median position)\n",
        "ra_center = np.median(df['ra'])\n",
        "dec_center = np.median(df['dec'])\n",
        "\n",
        "df['angular_separation'] = calculate_angular_separation(\n",
        "    df['ra'], df['dec'], ra_center, dec_center\n",
        ")\n",
        "\n",
        "# Create figure with 3 subplots\n",
        "plt.figure(figsize=(15, 5))\n",
        "\n",
        "# Subplot 1: Redshift distribution\n",
        "plt.subplot(1, 3, 1)\n",
        "plt.hist(df['specz'], bins=20, color='teal', alpha=0.7)\n",
        "plt.axvline(cluster_redshift, color='red', linestyle='--')\n",
        "plt.xlabel('Redshift', fontsize=12)\n",
        "plt.ylabel('Number of Galaxies', fontsize=12)\n",
        "plt.title('Redshift Distribution', fontsize=14)\n",
        "plt.grid(True, alpha=0.3)\n",
        "\n",
        "# Subplot 2: Velocity distribution\n",
        "plt.subplot(1, 3, 2)\n",
        "plt.hist(df['velocity'], bins=20, color='steelblue', alpha=0.7)\n",
        "plt.axvline(0, color='red', linestyle='--')\n",
        "plt.xlabel('Velocity (km/s)', fontsize=12)\n",
        "plt.title(f'Velocity Dispersion\\n(σ = {disp:.2f} km/s)', fontsize=14)\n",
        "plt.grid(True, alpha=0.3)\n",
        "\n",
        "# Subplot 3: Angular separation distribution\n",
        "plt.subplot(1, 3, 3)\n",
        "plt.hist(df['angular_separation'], bins=20, color='purple', alpha=0.7)\n",
        "plt.xlabel('Angular Separation (arcmin)', fontsize=12)\n",
        "plt.title('Galaxy Distribution', fontsize=14)\n",
        "plt.grid(True, alpha=0.3)\n",
        "\n",
        "plt.tight_layout()\n",
        "plt.show()\n",
        "\n",
        "# Print final results\n",
        "print(f\"\\nCluster Center: RA = {ra_center:.6f}°, Dec = {dec_center:.6f}°\")\n",
        "print(f\"The value of the cluster redshift = {cluster_redshift:.4f}\")\n",
        "print(f\"The characteristic velocity dispersion = {disp:.4f} km/s\")\n",
        "print(f\"Median angular separation = {np.median(df['angular_separation']):.2f} arcmin\")\n",
        "\n",
        "# Interpretation of spatial distribution\n",
        "sep_median = np.median(df['angular_separation'])\n",
        "if sep_median > 30:\n",
        "    spatial_type = \"very extended\"\n",
        "elif sep_median > 15:\n",
        "    spatial_type = \"moderately extended\"\n",
        "else:\n",
        "    spatial_type = \"compact\"\n",
        "\n",
        "print(f\"\\nThe cluster appears {spatial_type} with a median angular separation of {sep_median:.1f} arcmin.\")"
      ],
      "metadata": {
        "id": "CD4INyt_8gRc",
        "colab": {
          "base_uri": "https://localhost:8080/",
          "height": 627
        },
        "outputId": "0b4f98e3-8cd1-4530-c437-a0880a542e4a"
      },
      "execution_count": null,
      "outputs": [
        {
          "output_type": "display_data",
          "data": {
            "text/plain": [
              "<Figure size 1500x500 with 3 Axes>"
            ],
            "image/png": "[encoded data removed]"
          },
          "metadata": {}
        },
        {
          "output_type": "stream",
          "name": "stdout",
          "text": [
            "\n",
            "Cluster Center: RA = 258.138560°, Dec = 64.071678°\n",
            "The value of the cluster redshift = 0.0810\n",
            "The characteristic velocity dispersion = 2543.6000 km/s\n",
            "Median angular separation = 6.29 arcmin\n",
            "\n",
            "The cluster appears compact with a median angular separation of 6.3 arcmin.\n"
          ]
        }
      ]
    },
    {
      "cell_type": "markdown",
      "source": [
        "\n",
        "**Step 5: Estimating Physical Diameter of the Cluster**"
      ],
      "metadata": {
        "id": "1TSe-xclUU-F"
      }
    },
    {
      "cell_type": "code",
      "source": [
        "\n",
        "\n",
        "class ClusterSizeCalculator:\n",
        "    \"\"\"\n",
        "    A class to calculate cluster physical properties from angular size and redshift\n",
        "    \"\"\"\n",
        "\n",
        "    def __init__(self, h=0.7, Om0=0.3):\n",
        "        \"\"\"\n",
        "        Initialize with cosmological parameters\n",
        "        Args:\n",
        "            h: Hubble parameter (H0 = 100h km/s/Mpc)\n",
        "            Om0: Matter density parameter\n",
        "        \"\"\"\n",
        "        self.cosmo = FlatLambdaCDM(H0=100*h, Om0=Om0)\n",
        "        self.c = 299792.458  # Speed of light in km/s\n",
        "        self.q0 = -0.55      # Deceleration parameter for ΛCDM\n",
        "\n",
        "    def calculate_distances(self, angular_sep_arcmin, cluster_z):\n",
        "        \"\"\"\n",
        "        Calculate all distance measures\n",
        "        Args:\n",
        "            angular_sep_arcmin: Angular diameter (arcminutes)\n",
        "            cluster_z: Cluster redshift\n",
        "        Returns:\n",
        "            Dictionary containing all distance measures\n",
        "        \"\"\"\n",
        "        with warnings.catch_warnings():\n",
        "            warnings.simplefilter(\"ignore\")\n",
        "\n",
        "            # 1. Comoving distance (Taylor expansion for low-z)\n",
        "            r = (self.c * cluster_z / self.cosmo.H0.value) * \\\n",
        "                (1 + 0.5*(1-self.q0)*cluster_z)\n",
        "\n",
        "            # 2. Angular diameter distance\n",
        "            ra = self.cosmo.angular_diameter_distance(cluster_z).to('Mpc').value\n",
        "\n",
        "            # 3. Physical diameter\n",
        "            theta_rad = (angular_sep_arcmin * u.arcmin).to(u.rad).value\n",
        "            diameter = theta_rad * ra\n",
        "\n",
        "            # Alternative approximation for comparison\n",
        "            ra_approx = r / (1 + cluster_z)\n",
        "            diameter_approx = theta_rad * ra_approx\n",
        "\n",
        "        return {\n",
        "            'r_mpc': r,\n",
        "            'ra_mpc': ra,\n",
        "            'diameter_mpc': diameter,\n",
        "            'ra_approx_mpc': ra_approx,\n",
        "            'diameter_approx_mpc': diameter_approx,\n",
        "            'theta_rad': theta_rad\n",
        "        }\n",
        "\n",
        "def main():\n",
        "    \"\"\"Main execution function\"\"\"\n",
        "    try:\n",
        "        # Initialize calculator with default cosmology\n",
        "        calculator = ClusterSizeCalculator()\n",
        "\n",
        "        # Example data (replace with your actual values)\n",
        "        angular_separation = 20.5  # arcminutes\n",
        "        cluster_redshift = 0.045   # dimensionless\n",
        "\n",
        "        # Calculate properties\n",
        "        results = calculator.calculate_distances(angular_separation, cluster_redshift)\n",
        "\n",
        "        # Display results in requested format\n",
        "        print(\"\\nCluster Physical Properties:\")\n",
        "        print(\"r = {:.4f}\".format(results['r_mpc']))\n",
        "        print(\"ra = {:.4f}\".format(results['ra_mpc']))\n",
        "        print(\"diameter = {:.4f}\".format(results['diameter_mpc']))\n",
        "        print(\"diameter #in Mpc\\n\")\n",
        "\n",
        "        # Additional information\n",
        "        print(\"Alternative Approximation:\")\n",
        "        print(f\"ra (approx) = {results['ra_approx_mpc']:.4f} Mpc\")\n",
        "        print(f\"diameter (approx) = {results['diameter_approx_mpc']:.4f} Mpc\")\n",
        "\n",
        "        # Interpretation\n",
        "        if results['diameter_mpc'] > 5:\n",
        "            size_class = \"a very massive cluster (similar to Coma)\"\n",
        "        elif results['diameter_mpc'] > 2:\n",
        "            size_class = \"a typical rich cluster\"\n",
        "        else:\n",
        "            size_class = \"a poor cluster or group\"\n",
        "\n",
        "        print(f\"\\nInterpretation: This {results['diameter_mpc']:.2f} Mpc cluster is {size_class}.\")\n",
        "\n",
        "    except Exception as e:\n",
        "        print(f\"\\nError: {str(e)}\")\n",
        "        print(\"Please check your input values and try again.\")\n",
        "\n",
        "if __name__ == \"__main__\":\n",
        "    main()"
      ],
      "metadata": {
        "id": "BWvPMK3eBU7-",
        "colab": {
          "base_uri": "https://localhost:8080/"
        },
        "outputId": "d0d1b757-0e24-42c5-942a-c1ea9957e05f"
      },
      "execution_count": null,
      "outputs": [
        {
          "output_type": "stream",
          "name": "stdout",
          "text": [
            "\n",
            "Cluster Physical Properties:\n",
            "r = 199.4450\n",
            "ra = 182.5401\n",
            "diameter = 1.0885\n",
            "diameter #in Mpc\n",
            "\n",
            "Alternative Approximation:\n",
            "ra (approx) = 190.8564 Mpc\n",
            "diameter (approx) = 1.1381 Mpc\n",
            "\n",
            "Interpretation: This 1.09 Mpc cluster is a poor cluster or group.\n"
          ]
        }
      ]
    },
    {
      "cell_type": "markdown",
      "source": [
        "**Step 6: Calculating the Dynamical Mass of the Cluster in solar mass**"
      ],
      "metadata": {
        "id": "25aG4GJzUjO9"
      }
    },
    {
      "cell_type": "code",
      "source": [
        "\n",
        "\n",
        "def calculate_dynamical_mass(velocity_dispersion_km_s, diameter_mpc):\n",
        "    \"\"\"\n",
        "    Calculate the dynamical mass of a galaxy cluster using the virial theorem\n",
        "\n",
        "    Args:\n",
        "        velocity_dispersion_km_s: Velocity dispersion in km/s\n",
        "        diameter_mpc: Physical diameter in megaparsecs\n",
        "\n",
        "    Returns:\n",
        "        Dynamical mass in solar masses\n",
        "    \"\"\"\n",
        "    # Convert inputs to SI units\n",
        "    sigma = velocity_dispersion_km_s * 1e3  # km/s → m/s\n",
        "    radius = (diameter_mpc * 0.5) * 1e6 * const.pc.to('m').value  # Mpc → m\n",
        "\n",
        "    # Virial mass calculation (M = 3*σ²*R/G)\n",
        "    M_dyn = (3 * sigma**2 * radius) / const.G.value\n",
        "\n",
        "    # Convert to solar masses\n",
        "    return M_dyn / const.M_sun.value\n",
        "\n",
        "# Example usage (replace with your actual values)\n",
        "disp = 850.0        # Velocity dispersion in km/s (from earlier steps)\n",
        "diameter = 1.8734   # Physical diameter in Mpc (from earlier steps)\n",
        "\n",
        "# Calculate dynamical mass\n",
        "M_dyn = calculate_dynamical_mass(disp, diameter)\n",
        "\n",
        "# Print results with interpretation\n",
        "print(\"\\nCluster Dynamical Mass Calculation:\")\n",
        "print(f\"Velocity dispersion: {disp:.2f} km/s\")\n",
        "print(f\"Physical diameter: {diameter:.4f} Mpc\")\n",
        "print(f\"Effective radius: {diameter*0.5:.4f} Mpc\")\n",
        "print(f\"\\nDynamical Mass of the cluster is {M_dyn:.2e} solar masses\")\n",
        "\n",
        "# Interpretation\n",
        "if M_dyn > 1e15:\n",
        "    mass_class = \"a massive cluster (similar to Coma)\"\n",
        "elif M_dyn > 1e14:\n",
        "    mass_class = \"a typical rich cluster\"\n",
        "else:\n",
        "    mass_class = \"a poor cluster or group\"\n",
        "\n",
        "print(f\"\\nThis suggests the cluster is {mass_class}.\")\n",
        "\n",
        "# Alternative formulation (matches your comment exactly)\n",
        "G = const.G.value\n",
        "M_dyn_alt = 3 * ((disp*1000)**2) * (diameter*0.5*1e6*const.pc.to('m').value) / (G*const.M_sun.value)\n",
        "print(f\"\\nAlternative calculation verification: {M_dyn_alt:.2e} solar masses\")"
      ],
      "metadata": {
        "id": "8UzJp8HGBxpX",
        "colab": {
          "base_uri": "https://localhost:8080/"
        },
        "outputId": "2f58f74e-9613-453c-c5c4-88a5f8f3afcc"
      },
      "execution_count": null,
      "outputs": [
        {
          "output_type": "stream",
          "name": "stdout",
          "text": [
            "\n",
            "Cluster Dynamical Mass Calculation:\n",
            "Velocity dispersion: 850.00 km/s\n",
            "Physical diameter: 1.8734 Mpc\n",
            "Effective radius: 0.9367 Mpc\n",
            "\n",
            "Dynamical Mass of the cluster is 4.72e+14 solar masses\n",
            "\n",
            "This suggests the cluster is a typical rich cluster.\n",
            "\n",
            "Alternative calculation verification: 4.72e+14 solar masses\n"
          ]
        }
      ]
    },
    {
      "cell_type": "markdown",
      "source": [
        "**Step 6: Calculating the Dynamical Mass of the Cluster in kg**"
      ],
      "metadata": {
        "id": "ossMwlizYPBX"
      }
    },
    {
      "cell_type": "code",
      "source": [
        "\n",
        "\n",
        "def calculate_and_print_mass(disp_km_s, diameter_mpc):\n",
        "    \"\"\"\n",
        "    Calculate and print dynamical mass in both solar masses and kilograms\n",
        "    in the exact requested format with proper unit conversions\n",
        "\n",
        "    Args:\n",
        "        disp_km_s: Velocity dispersion in km/s\n",
        "        diameter_mpc: Physical diameter in Mpc\n",
        "    \"\"\"\n",
        "    # Constants\n",
        "    G = const.G.value  # 6.67430e-11 m^3 kg^-1 s^-2\n",
        "    pc_to_m = 3.086e16  # 1 parsec in meters\n",
        "    M_sun = 1.98847e30  # Solar mass in kg\n",
        "\n",
        "    # Convert inputs\n",
        "    disp = disp_km_s * 1000  # km/s to m/s\n",
        "    radius_mpc = diameter_mpc * 0.5  # Radius from diameter\n",
        "    radius_m = radius_mpc * 1e6 * pc_to_m  # Mpc to meters\n",
        "\n",
        "    # Calculate mass (virial theorem)\n",
        "    numerator = 3 * ((disp*1000)**2) * radius_m\n",
        "    M_dyn_kg = numerator / G\n",
        "    M_dyn = M_dyn_kg / M_sun  # Convert to solar masses\n",
        "\n",
        "    # Print requested format (solar masses)\n",
        "    print(\"\\nCalculating the dynamical mass in solar masses:\")\n",
        "    #print(\"M_dyn = 3*(disp**2)*(diameter*0.5*1e6*3.086e16)/(G*1.98847e30)\")\n",
        "    print(f\"Dynamical Mass of the cluster is {M_dyn:.2e} solar mass\")\n",
        "\n",
        "    # Print mass in kilograms\n",
        "    print(\"\\nCalculating the dynamical mass in kilograms:\")\n",
        "    print(\"M_dyn_kg = 3*((disp*1000)**2)*(diameter*0.5*1e6*3.086e16)/G\")\n",
        "    print(f\"Dynamical Mass of the cluster is {M_dyn_kg:.2e} kg\")\n",
        "\n",
        "    return M_dyn, M_dyn_kg\n",
        "\n",
        "# Example usage (replace with your values)\n",
        "velocity_dispersion = 850.0  # Your velocity dispersion in km/s\n",
        "cluster_diameter = 1.8734    # Your diameter in Mpc\n",
        "\n",
        "# Calculate and print\n",
        "cluster_mass_solar, cluster_mass_kg = calculate_and_print_mass(velocity_dispersion, cluster_diameter)\n",
        "\n",
        "# Additional interpretation\n",
        "if cluster_mass_solar > 1e15:\n",
        "    mass_class = \">> This is a massive cluster (similar to Coma)\"\n",
        "elif cluster_mass_solar > 1e14:\n",
        "    mass_class = \">> This is a typical rich cluster\"\n",
        "else:\n",
        "    mass_class = \">> This is a poor cluster or group\"\n",
        "\n",
        "print(mass_class)"
      ],
      "metadata": {
        "id": "F5gK1gwkJPhf",
        "colab": {
          "base_uri": "https://localhost:8080/"
        },
        "outputId": "ae823099-1f4c-4fb4-cce3-1dc35cf5fc78"
      },
      "execution_count": null,
      "outputs": [
        {
          "output_type": "stream",
          "name": "stdout",
          "text": [
            "\n",
            "Calculating the dynamical mass in solar masses:\n",
            "Dynamical Mass of the cluster is 4.72e+20 solar mass\n",
            "\n",
            "Calculating the dynamical mass in kilograms:\n",
            "M_dyn_kg = 3*((disp*1000)**2)*(diameter*0.5*1e6*3.086e16)/G\n",
            "Dynamical Mass of the cluster is 9.39e+50 kg\n",
            ">> This is a massive cluster (similar to Coma)\n"
          ]
        }
      ]
    },
    {
      "cell_type": "markdown",
      "source": [
        "**1)Identify galaxies that you think are members of a cluster. For this, use of knowledge\n",
        "of velocity dispersions (redshift dispersions) within a cluster due to peculiar\n",
        "motion. The choice of lower and upper redshift cut for cluster members will be\n",
        "subjective but should be guided by some logic.**\n",
        "\n",
        "**2) After the required analysis of the table of data, determine the cluster redshift, and obtain an estimate for the characteristic velocity dispersion of galaxies that belong to the cluster in units of km/s**\n",
        "\n",
        "Based on my analysis, the\n",
        "\n",
        "The value of the Cluster mean redshift: 0.02310\n",
        "\n",
        "The value of the cluster redshift = 0.0810\n",
        "\n",
        "Velocity dispersion: 80.20 km/s\n",
        "\n",
        "The characteristic value of velocity dispersion of the cluster along the line of sight = 2543.6000 km/s.\n",
        "\n",
        "This high dispersion suggests a massive cluster or supercluster.\n",
        "\n",
        "\n",
        "**3) Estimate the characteristic size of the cluster in Mpc**\n",
        "\n",
        "Cluster Physical Properties:\n",
        "\n",
        "r = 199.4450\n",
        "\n",
        "ra = 182.5401\n",
        "\n",
        "diameter = 1.0885 MPC\n",
        "\n",
        "diameter #in Mpc\n",
        "\n",
        "**4) Estimate the dynamical mass of the cluster and quote the value in units of solarmass**\n",
        "\n",
        "Dynamical Mass of the cluster is 4.72e+14 solar masses\n",
        "\n",
        "This suggests the cluster is a typical rich cluster.\n",
        "\n",
        "**5)Is the estimate of dynamical mass consistent with what is expected from the\n",
        "luminous mass? If not, explain with the support of numbers the inconsistency.**\n",
        "\n"
      ],
      "metadata": {
        "id": "Q3FCs40hwC7J"
      }
    },
    {
      "cell_type": "code",
      "source": [
        "import pandas as pd\n",
        "import numpy as np\n",
        "from google.colab import files\n",
        "from astropy.cosmology import FlatLambdaCDM\n",
        "import astropy.units as u\n",
        "\n",
        "# Define cosmological parameters (you can adjust these if needed)\n",
        "cosmo = FlatLambdaCDM(H0=70 * u.km / u.s / u.Mpc, Om0=0.3)\n",
        "\n",
        "# Upload CSV file from your system\n",
        "# from google.colab import files\n",
        "# uploaded = files.upload()\n",
        "\n",
        "# Read the CSV - assuming the file is already uploaded and its name is known\n",
        "# If you need to upload again, uncomment the lines above and get the filename from uploaded.keys()\n",
        "filename = '/content/drive/MyDrive/Colab Notebooks/ISA Project /Skyserver_SQL6_28_2025 1_20_10 PM.csv' # Replace with the correct path if needed\n",
        "\n",
        "# Read the CSV, skipping the first row which seems to be a comment/header issue\n",
        "df = pd.read_csv(filename, comment='#')\n",
        "\n",
        "# Display first few rows to check column names\n",
        "print(df.head())\n",
        "\n",
        "# Clean data - remove rows with missing 'rmag' or 'specz'\n",
        "df = df.dropna(subset=['rmag', 'specz']).copy()\n",
        "\n",
        "# Convert 'rmag' and 'specz' to numeric, coercing errors\n",
        "df['rmag'] = pd.to_numeric(df['rmag'], errors='coerce')\n",
        "df['specz'] = pd.to_numeric(df['specz'], errors='coerce')\n",
        "\n",
        "# Drop rows where conversion failed\n",
        "df = df.dropna(subset=['rmag', 'specz']).copy()\n",
        "\n",
        "# Calculate distance modulus and distance in Mpc\n",
        "# Distance modulus = m - M = 5 * log10(d/10pc)\n",
        "# d is in pc, d/10pc is dimensionless\n",
        "# d in Mpc = d in pc / 1e6\n",
        "# Distance modulus = m - M = 5 * log10(d_Mpc * 1e5) = 5 * (log10(d_Mpc) + 5)\n",
        "# So, M = m - 5 * log10(d_Mpc) - 25\n",
        "\n",
        "# Calculate luminosity distance using astropy\n",
        "df['distance_Mpc'] = cosmo.luminosity_distance(df['specz']).to(u.Mpc).value\n",
        "\n",
        "# Calculate absolute r-band magnitude (M_r)\n",
        "df['M_r'] = df['rmag'] - 5 * np.log10(df['distance_Mpc'] * 1e6) + 5 # Using luminosity distance\n",
        "\n",
        "# Example: Assuming a mass-to-light ratio (M/L) for a galaxy\n",
        "# M/L ratios vary by galaxy type and wavelength. A common value for r-band for\n",
        "# typical galaxies might be around 3-10. Let's use 5 as an example.\n",
        "mass_to_light_ratio = 5  # Example value in M_sun / L_sun\n",
        "\n",
        "# We need to relate absolute magnitude to luminosity in solar luminosities (L_sun)\n",
        "# M - M_sun = -2.5 * log10(L / L_sun)\n",
        "# M_sun (absolute magnitude of the Sun in the r-band) is approximately 4.65\n",
        "M_sun_r = 4.65 # Approximate absolute magnitude of the Sun in the r-band\n",
        "\n",
        "# Calculate Luminosity in solar luminosities (L_sun)\n",
        "df['Luminosity_Lsun'] = 10**((M_sun_r - df['M_r']) / 2.5)\n",
        "\n",
        "# Calculate Luminous Mass in solar masses (M_sun)\n",
        "df['Luminous_Mass_Msun'] = mass_to_light_ratio * df['Luminosity_Lsun']\n",
        "\n",
        "# Display relevant columns\n",
        "print(\"\\nCalculated Luminous Mass:\")\n",
        "print(df[['specz', 'rmag', 'distance_Mpc', 'M_r', 'Luminosity_Lsun', 'Luminous_Mass_Msun']].head())\n",
        "\n",
        "# To get the total luminous mass of the *cluster*, you would sum the luminous masses\n",
        "# of the galaxies identified as cluster members.\n",
        "# For now, let's just calculate the total luminous mass of all galaxies in the dataframe\n",
        "total_luminous_mass_Msun = df['Luminous_Mass_Msun'].sum()\n",
        "\n",
        "print(f\"\\nEstimated total luminous mass of all galaxies in the sample: {total_luminous_mass_Msun:.2e} solar masses\")\n",
        "\n",
        "\n",
        "# Note: This is a simplified estimation. A more accurate luminous mass\n",
        "# calculation would involve K-corrections, evolutionary corrections, and\n",
        "# considering different galaxy types with varying M/L ratios.\n",
        "\n",
        "# Save the output to a new CSV (optional)\n",
        "# output_filename = 'galaxy_luminous_mass.csv'\n",
        "# df.to_csv(output_filename, index=False)\n",
        "\n",
        "# Download the result file (optional)\n",
        "# files.download(output_filename)"
      ],
      "metadata": {
        "colab": {
          "base_uri": "https://localhost:8080/"
        },
        "id": "RK-IGfvbZO5D",
        "outputId": "b9c6368c-4e00-437d-bf0f-9cb99fa4c466"
      },
      "execution_count": null,
      "outputs": [
        {
          "output_type": "stream",
          "name": "stdout",
          "text": [
            "                 objid         ra        dec    photoz  photozerr     specz  \\\n",
            "0  1237671768542478711  257.82458  64.133257  0.079193   0.022867  0.082447   \n",
            "1  1237671768542478711  257.82458  64.133257  0.079193   0.022867  0.082466   \n",
            "2  1237671768542478713  257.83332  64.126043  0.091507   0.014511  0.081218   \n",
            "3  1237671768542544090  257.85137  64.173247  0.081102   0.009898  0.079561   \n",
            "4  1237671768542544090  257.85137  64.173247  0.081102   0.009898  0.079568   \n",
            "\n",
            "   speczerr  proj_sep      umag   umagerr      gmag   gmagerr      rmag  \\\n",
            "0  0.000017  8.347733  18.96488  0.043377  17.49815  0.005672  16.75003   \n",
            "1  0.000014  8.347733  18.96488  0.043377  17.49815  0.005672  16.75003   \n",
            "2  0.000021  8.011259  20.22848  0.072019  18.38334  0.007763  17.46793   \n",
            "3  0.000022  8.739276  19.21829  0.050135  17.18970  0.004936  16.22043   \n",
            "4  0.000019  8.739276  19.21829  0.050135  17.18970  0.004936  16.22043   \n",
            "\n",
            "    rmagerr  obj_type  \n",
            "0  0.004708         3  \n",
            "1  0.004708         3  \n",
            "2  0.005828         3  \n",
            "3  0.003769         3  \n",
            "4  0.003769         3  \n",
            "\n",
            "Calculated Luminous Mass:\n",
            "      specz      rmag  distance_Mpc        M_r  Luminosity_Lsun  \\\n",
            "0  0.082447  16.75003    375.008721 -21.120177     2.032688e+10   \n",
            "1  0.082466  16.75003    375.100138 -21.120706     2.033679e+10   \n",
            "2  0.081218  17.46793    369.106858 -20.367831     1.016558e+10   \n",
            "3  0.079561  16.22043    361.161912 -21.568080     3.070661e+10   \n",
            "4  0.079568  16.22043    361.193757 -21.568271     3.071203e+10   \n",
            "\n",
            "   Luminous_Mass_Msun  \n",
            "0        1.016344e+11  \n",
            "1        1.016840e+11  \n",
            "2        5.082791e+10  \n",
            "3        1.535331e+11  \n",
            "4        1.535601e+11  \n",
            "\n",
            "Estimated total luminous mass of all galaxies in the sample: 1.83e+13 solar masses\n"
          ]
        }
      ]
    },
    {
      "cell_type": "markdown",
      "source": [
        "**1)Identify galaxies that you think are members of a cluster. For this, use of knowledge\n",
        "of velocity dispersions (redshift dispersions) within a cluster due to peculiar\n",
        "motion. The choice of lower and upper redshift cut for cluster members will be\n",
        "subjective but should be guided by some logic.**\n",
        "\n",
        "**2) After the required analysis of the table of data, determine the cluster redshift, and obtain an estimate for the characteristic velocity dispersion of galaxies that belong to the cluster in units of km/s**\n",
        "\n",
        "Based on my analysis, the\n",
        "\n",
        "The value of the Cluster mean redshift: 0.02310\n",
        "\n",
        "The value of the cluster redshift = 0.0810\n",
        "\n",
        "Velocity dispersion: 80.20 km/s\n",
        "\n",
        "The characteristic value of velocity dispersion of the cluster along the line of sight = 2543.6000 km/s.\n",
        "\n",
        "This high dispersion suggests a massive cluster or supercluster.\n",
        "\n",
        "\n",
        "**3) Estimate the characteristic size of the cluster in Mpc**\n",
        "\n",
        "Cluster Physical Properties:\n",
        "\n",
        "r = 199.4450\n",
        "\n",
        "ra = 182.5401\n",
        "\n",
        "diameter = 1.0885 MPC\n",
        "\n",
        "diameter #in Mpc\n",
        "\n",
        "**4) Estimate the dynamical mass of the cluster and quote the value in units of solarmass**\n",
        "\n",
        "Dynamical Mass of the cluster is 4.72e+14 solar masses\n",
        "\n",
        "This suggests the cluster is a typical rich cluster.\n",
        "\n",
        "**5)Is the estimate of dynamical mass consistent with what is expected from the\n",
        "luminous mass? If not, explain with the support of numbers the inconsistency.**\n",
        "\n",
        "Luminous mass (your estimate):\n",
        "1.83\n",
        "×\n",
        "10\n",
        "13\n",
        "\n",
        "M\n",
        "⊙\n",
        "\n",
        "\n",
        "Dynamical mass (measured):\n",
        "4.72\n",
        "×\n",
        "10\n",
        "14\n",
        "\n",
        "M\n",
        "⊙\n",
        "\n",
        "\n",
        "\n",
        "Ratio:\n",
        "\n",
        "Interpretation:\n",
        "The ratio exceeds the typical 5–10× range, suggesting:\n",
        "\n",
        "Excess dark matter (e.g., dense cluster halo or unresolved substructure),\n",
        "\n",
        "Underestimated luminous mass (e.g., missed faint galaxies or low ), or\n",
        "\n",
        "Kinematic bias (e.g., inflated velocity dispersion from infalling galaxies)."
      ],
      "metadata": {
        "id": "WZX6Da3aZ1oH"
      }
    }
  ],
  "metadata": {
    "colab": {
      "provenance": []
    },
    "kernelspec": {
      "display_name": "Python 3",
      "name": "python3"
    }
  },
  "nbformat": 4,
  "nbformat_minor": 0
}